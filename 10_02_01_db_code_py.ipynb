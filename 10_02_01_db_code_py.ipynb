{
  "nbformat": 4,
  "nbformat_minor": 0,
  "metadata": {
    "colab": {
      "provenance": [],
      "authorship_tag": "ABX9TyOWQngXy+RjKJdrWL+HDPAr",
      "include_colab_link": true
    },
    "kernelspec": {
      "name": "python3",
      "display_name": "Python 3"
    },
    "language_info": {
      "name": "python"
    }
  },
  "cells": [
    {
      "cell_type": "markdown",
      "metadata": {
        "id": "view-in-github",
        "colab_type": "text"
      },
      "source": [
        "<a href=\"https://colab.research.google.com/github/ito0890/DataScience-Notebook/blob/main/10_02_01_db_code_py.ipynb\" target=\"_parent\"><img src=\"https://colab.research.google.com/assets/colab-badge.svg\" alt=\"Open In Colab\"/></a>"
      ]
    },
    {
      "cell_type": "code",
      "execution_count": 2,
      "metadata": {
        "colab": {
          "base_uri": "https://localhost:8080/"
        },
        "collapsed": true,
        "id": "cM8mYOHh-xkK",
        "outputId": "efd1f109-4829-430a-b536-48ae413c3ebc"
      },
      "outputs": [
        {
          "output_type": "stream",
          "name": "stdout",
          "text": [
            "--2025-03-02 13:11:45--  https://cf-courses-data.s3.us.cloud-object-storage.appdomain.cloud/IBMSkillsNetwork-PY0221EN-Coursera/labs/v2/INSTRUCTOR.csv\n",
            "Resolving cf-courses-data.s3.us.cloud-object-storage.appdomain.cloud (cf-courses-data.s3.us.cloud-object-storage.appdomain.cloud)... 169.63.118.104\n",
            "Connecting to cf-courses-data.s3.us.cloud-object-storage.appdomain.cloud (cf-courses-data.s3.us.cloud-object-storage.appdomain.cloud)|169.63.118.104|:443... connected.\n",
            "HTTP request sent, awaiting response... 200 OK\n",
            "Length: 387 [text/csv]\n",
            "Saving to: ‘INSTRUCTOR.csv’\n",
            "\n",
            "INSTRUCTOR.csv      100%[===================>]     387  --.-KB/s    in 0s      \n",
            "\n",
            "2025-03-02 13:11:45 (74.7 MB/s) - ‘INSTRUCTOR.csv’ saved [387/387]\n",
            "\n"
          ]
        }
      ],
      "source": [
        "!wget https://cf-courses-data.s3.us.cloud-object-storage.appdomain.cloud/IBMSkillsNetwork-PY0221EN-Coursera/labs/v2/INSTRUCTOR.csv"
      ]
    },
    {
      "cell_type": "code",
      "source": [
        "pip install pandas"
      ],
      "metadata": {
        "colab": {
          "base_uri": "https://localhost:8080/"
        },
        "collapsed": true,
        "id": "voyQ4rCV_CWo",
        "outputId": "68726a15-5fa4-4e74-cdaf-699588f069ac"
      },
      "execution_count": 3,
      "outputs": [
        {
          "output_type": "stream",
          "name": "stdout",
          "text": [
            "Requirement already satisfied: pandas in /usr/local/lib/python3.11/dist-packages (2.2.2)\n",
            "Requirement already satisfied: numpy>=1.23.2 in /usr/local/lib/python3.11/dist-packages (from pandas) (1.26.4)\n",
            "Requirement already satisfied: python-dateutil>=2.8.2 in /usr/local/lib/python3.11/dist-packages (from pandas) (2.8.2)\n",
            "Requirement already satisfied: pytz>=2020.1 in /usr/local/lib/python3.11/dist-packages (from pandas) (2025.1)\n",
            "Requirement already satisfied: tzdata>=2022.7 in /usr/local/lib/python3.11/dist-packages (from pandas) (2025.1)\n",
            "Requirement already satisfied: six>=1.5 in /usr/local/lib/python3.11/dist-packages (from python-dateutil>=2.8.2->pandas) (1.17.0)\n"
          ]
        }
      ]
    },
    {
      "cell_type": "code",
      "source": [
        "import sqlite3\n",
        "import pandas as pd\n",
        "conn = sqlite3.connect('STAFF.db')"
      ],
      "metadata": {
        "id": "z0d2trtY_GlI"
      },
      "execution_count": 4,
      "outputs": []
    },
    {
      "cell_type": "code",
      "source": [
        "table_name = 'INSTRUCTOR'\n",
        "attribute_list = ['ID', 'FNAME', 'LNAME', 'CITY', 'CCODE']\n",
        "file_path = 'INSTRUCTOR.csv'\n",
        "df = pd.read_csv(file_path, names = attribute_list)\n",
        "df.to_sql(table_name, conn, if_exists = 'replace', index =False)\n",
        "print('Table is ready')"
      ],
      "metadata": {
        "colab": {
          "base_uri": "https://localhost:8080/"
        },
        "id": "zLD652Op_IaH",
        "outputId": "39f40fa9-06ee-42c0-ffdc-9494fb2354f7"
      },
      "execution_count": 6,
      "outputs": [
        {
          "output_type": "stream",
          "name": "stdout",
          "text": [
            "Table is ready\n"
          ]
        }
      ]
    },
    {
      "cell_type": "code",
      "source": [
        "query_statement = f\"SELECT * FROM {table_name}\"\n",
        "query_output = pd.read_sql(query_statement, conn)\n",
        "print(query_statement)\n",
        "print(query_output)"
      ],
      "metadata": {
        "colab": {
          "base_uri": "https://localhost:8080/"
        },
        "collapsed": true,
        "id": "vQYQ_5hn_gDJ",
        "outputId": "a7f7451f-053e-4822-f6f7-7bd331f9fe82"
      },
      "execution_count": 7,
      "outputs": [
        {
          "output_type": "stream",
          "name": "stdout",
          "text": [
            "SELECT * FROM INSTRUCTOR\n",
            "    ID    FNAME      LNAME      CITY CCODE\n",
            "0    1      Rav      Ahuja   TORONTO    CA\n",
            "1    2     Raul      Chong   Markham    CA\n",
            "2    3     Hima  Vasudevan   Chicago    US\n",
            "3    4     John     Thomas  Illinois    US\n",
            "4    5    Alice      James  Illinois    US\n",
            "5    6    Steve      Wells  Illinois    US\n",
            "6    7  Santosh      Kumar  Illinois    US\n",
            "7    8    Ahmed    Hussain  Illinois    US\n",
            "8    9    Nancy      Allen  Illinois    US\n",
            "9   10     Mary     Thomas  Illinois    US\n",
            "10  11  Bharath      Gupta  Illinois    US\n",
            "11  12   Andrea      Jones  Illinois    US\n",
            "12  13      Ann      Jacob  Illinois    US\n",
            "13  14     Amit      Kumar  NewDelhi    IN\n"
          ]
        }
      ]
    },
    {
      "cell_type": "code",
      "source": [
        "query_statement = f\"SELECT FNAME FROM {table_name}\"\n",
        "query_output = pd.read_sql(query_statement, conn)\n",
        "print(query_statement)\n",
        "print(query_output)"
      ],
      "metadata": {
        "colab": {
          "base_uri": "https://localhost:8080/"
        },
        "collapsed": true,
        "id": "jjuDJMsy_0dR",
        "outputId": "2dad986f-5d90-493f-ea87-86189ac7aee2"
      },
      "execution_count": 8,
      "outputs": [
        {
          "output_type": "stream",
          "name": "stdout",
          "text": [
            "SELECT FNAME FROM INSTRUCTOR\n",
            "      FNAME\n",
            "0       Rav\n",
            "1      Raul\n",
            "2      Hima\n",
            "3      John\n",
            "4     Alice\n",
            "5     Steve\n",
            "6   Santosh\n",
            "7     Ahmed\n",
            "8     Nancy\n",
            "9      Mary\n",
            "10  Bharath\n",
            "11   Andrea\n",
            "12      Ann\n",
            "13     Amit\n"
          ]
        }
      ]
    },
    {
      "cell_type": "code",
      "source": [
        "query_statement = f\"SELECT COUNT(*) FROM {table_name}\"\n",
        "query_output = pd.read_sql(query_statement, conn)\n",
        "print(query_statement)\n",
        "print(query_output)"
      ],
      "metadata": {
        "id": "_2thFPuE_461"
      },
      "execution_count": null,
      "outputs": []
    },
    {
      "cell_type": "code",
      "source": [
        "data_dict = {'ID' : [100],\n",
        "            'FNAME' : ['John'],\n",
        "            'LNAME' : ['Doe'],\n",
        "            'CITY' : ['Paris'],\n",
        "            'CCODE' : ['FR']}\n",
        "data_append = pd.DataFrame(data_dict)"
      ],
      "metadata": {
        "id": "rUrz7BPX_9pm"
      },
      "execution_count": 10,
      "outputs": []
    },
    {
      "cell_type": "code",
      "source": [
        "data_append.to_sql(table_name, conn, if_exists = 'append', index =False)\n",
        "print('Data appended successfully')"
      ],
      "metadata": {
        "colab": {
          "base_uri": "https://localhost:8080/"
        },
        "collapsed": true,
        "id": "iYOSaUpoAEYv",
        "outputId": "492331cd-c138-4428-a921-25eacd3eb455"
      },
      "execution_count": 11,
      "outputs": [
        {
          "output_type": "stream",
          "name": "stdout",
          "text": [
            "Data appended successfully\n"
          ]
        }
      ]
    },
    {
      "cell_type": "code",
      "source": [
        "conn.close()"
      ],
      "metadata": {
        "id": "AJam-WvmAJ5L"
      },
      "execution_count": 12,
      "outputs": []
    },
    {
      "cell_type": "code",
      "source": [
        "!wget https://cf-courses-data.s3.us.cloud-object-storage.appdomain.cloud/IBMSkillsNetwork-PY0221EN-Coursera/labs/v2/Departments.csv"
      ],
      "metadata": {
        "colab": {
          "base_uri": "https://localhost:8080/"
        },
        "id": "gavM46lRATQF",
        "outputId": "0ab00e8f-f871-448a-8159-19c55854de5b"
      },
      "execution_count": 13,
      "outputs": [
        {
          "output_type": "stream",
          "name": "stdout",
          "text": [
            "--2025-03-02 13:17:43--  https://cf-courses-data.s3.us.cloud-object-storage.appdomain.cloud/IBMSkillsNetwork-PY0221EN-Coursera/labs/v2/Departments.csv\n",
            "Resolving cf-courses-data.s3.us.cloud-object-storage.appdomain.cloud (cf-courses-data.s3.us.cloud-object-storage.appdomain.cloud)... 169.45.118.108\n",
            "Connecting to cf-courses-data.s3.us.cloud-object-storage.appdomain.cloud (cf-courses-data.s3.us.cloud-object-storage.appdomain.cloud)|169.45.118.108|:443... connected.\n",
            "HTTP request sent, awaiting response... 200 OK\n",
            "Length: 88 [text/csv]\n",
            "Saving to: ‘Departments.csv’\n",
            "\n",
            "Departments.csv     100%[===================>]      88  --.-KB/s    in 0s      \n",
            "\n",
            "2025-03-02 13:17:44 (36.0 MB/s) - ‘Departments.csv’ saved [88/88]\n",
            "\n"
          ]
        }
      ]
    },
    {
      "cell_type": "code",
      "source": [
        "conn = sqlite3.connect('STAFF.db')\n",
        "table_name = 'Departments'\n",
        "attribute_list = ['DEPT_ID', 'DEP_NAME', 'MANAGER_ID', 'LOC_ID']\n",
        "file_path = 'Departments.csv'\n",
        "df = pd.read_csv(file_path, names = attribute_list)\n",
        "df.to_sql(table_name, conn, if_exists = 'replace', index =False)\n",
        "query_statement = f\"SELECT * FROM {table_name}\"\n",
        "query_output = pd.read_sql(query_statement, conn)\n",
        "print(query_statement)\n",
        "print(query_output)"
      ],
      "metadata": {
        "colab": {
          "base_uri": "https://localhost:8080/"
        },
        "id": "45U7QMbvAWOk",
        "outputId": "5fd28bb9-6df7-4695-ad1c-9ba814ce813f"
      },
      "execution_count": 14,
      "outputs": [
        {
          "output_type": "stream",
          "name": "stdout",
          "text": [
            "SELECT * FROM Departments\n",
            "   DEPT_ID         DEP_NAME  MANAGER_ID LOC_ID\n",
            "0        2  Architect Group       30001  L0001\n",
            "1        5   Software Group       30002  L0002\n",
            "2        7      Design Team       30003  L0003\n"
          ]
        }
      ]
    },
    {
      "cell_type": "code",
      "source": [
        "data_dict = {'DEPT_ID' : [9],\n",
        "            'DEP_NAME' : ['Quality Assurance'],\n",
        "            'MANAGER_ID' : ['30010'],\n",
        "            'LOC_ID' : ['L0010']}\n",
        "data_append = pd.DataFrame(data_dict)\n",
        "data_append.to_sql(table_name, conn, if_exists = 'append', index =False)\n",
        "print('Data appended successfully')\n",
        "query_statement = f\"SELECT * FROM {table_name}\"\n",
        "query_output = pd.read_sql(query_statement, conn)\n",
        "print(query_output)\n",
        "conn.close()"
      ],
      "metadata": {
        "colab": {
          "base_uri": "https://localhost:8080/"
        },
        "id": "Qs2OkXSiBSHV",
        "outputId": "a861ad7b-6110-4c45-aeb6-0c4e134781aa"
      },
      "execution_count": 15,
      "outputs": [
        {
          "output_type": "stream",
          "name": "stdout",
          "text": [
            "Data appended successfully\n",
            "   DEPT_ID           DEP_NAME  MANAGER_ID LOC_ID\n",
            "0        2    Architect Group       30001  L0001\n",
            "1        5     Software Group       30002  L0002\n",
            "2        7        Design Team       30003  L0003\n",
            "3        9  Quality Assurance       30010  L0010\n"
          ]
        }
      ]
    }
  ]
}